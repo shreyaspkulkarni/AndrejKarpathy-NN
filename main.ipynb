{
 "cells": [
  {
   "cell_type": "code",
   "execution_count": 64,
   "metadata": {},
   "outputs": [],
   "source": [
    "import math\n",
    "import numpy as np\n",
    "from graphviz import Digraph\n",
    "import matplotlib.pyplot as plt\n",
    "import random\n",
    "%matplotlib inline"
   ]
  },
  {
   "cell_type": "code",
   "execution_count": 93,
   "metadata": {},
   "outputs": [],
   "source": [
    "class Value:\n",
    "    \n",
    "    def __init__(self, data, _children = (), _op = '', label = ''):\n",
    "        self.data = data\n",
    "        self._backward = lambda:None\n",
    "        self.grad = 0.0\n",
    "        self._prev = set(_children)\n",
    "        self._op = _op\n",
    "        self.label = label\n",
    "        \n",
    "    def __repr__(self):\n",
    "        rep = f'Value({self.data})'\n",
    "        return rep\n",
    "    \n",
    "    def __add__(self, other):\n",
    "        other = other if isinstance(other, Value) else Value(other)\n",
    "        result = Value(self.data + other.data, (self, other), '+')\n",
    "        def _backward():\n",
    "            self.grad += 1.0 * result.grad\n",
    "            other.grad += 1.0 * result.grad\n",
    "        result._backward = _backward\n",
    "        return result\n",
    "\n",
    "    def __radd__(self, other): # other + self\n",
    "        return self + other\n",
    "    \n",
    "    def __neg__(self):\n",
    "        return self * (-1)\n",
    "\n",
    "    def __sub__(self, other):\n",
    "        return self + (-other)\n",
    "    \n",
    "    def __mul__(self, other):\n",
    "        other = other if isinstance(other, Value) else Value(other)\n",
    "        result = Value(self.data * other.data, (self, other), '*')\n",
    "        def _backward():\n",
    "            self.grad += other.data * result.grad\n",
    "            other.grad += self.data * result.grad\n",
    "        result._backward = _backward\n",
    "        return result\n",
    "\n",
    "    def __rmul__(self, other): # other * self\n",
    "        return self * other\n",
    "    \n",
    "    def __truediv__(self, other):\n",
    "        return self * other**-1\n",
    "    \n",
    "    def __pow__(self, other):\n",
    "        assert isinstance(other, (int, float)), \"Expected int or float argument\"\n",
    "        result = Value(self.data**other, (self, ), '*')\n",
    "        def _backward():\n",
    "            self.grad += (other * self.data**(other - 1)) * result.grad\n",
    "        result._backward = _backward\n",
    "        return result\n",
    "    \n",
    "    def exp(self):\n",
    "        x = self.data\n",
    "        result = Value(math.exp(x), (self,), 'exp')\n",
    "        def _backward():\n",
    "            self.grad += result.data * result.grad\n",
    "        result._backward = _backward\n",
    "        return result\n",
    "    \n",
    "    def tanh(self):\n",
    "        x = self.data\n",
    "        t = (math.exp(2 * x) - 1) / (math.exp(2 * x) + 1)\n",
    "        result = Value(t, (self,), 'tanh')\n",
    "        def _backward():\n",
    "            self.grad += (1 - t**2) * result.grad\n",
    "        result._backward = _backward\n",
    "        return result\n",
    "    \n",
    "    def backward(self):\n",
    "        topo = []\n",
    "        visited = set()\n",
    "        def build_topo(v):\n",
    "            if v not in visited:\n",
    "                visited.add(v)\n",
    "                for child in v._prev:\n",
    "                    build_topo(child)\n",
    "                topo.append(v)\n",
    "        build_topo(self)\n",
    "        self.grad = 1.0\n",
    "        for node in reversed(topo):\n",
    "            node._backward()"
   ]
  },
  {
   "cell_type": "code",
   "execution_count": 66,
   "metadata": {},
   "outputs": [],
   "source": [
    "def trace(root):\n",
    "    nodes, edges = set(), set()\n",
    "    def build(v):\n",
    "        if v not in nodes:\n",
    "            nodes.add(v)\n",
    "            for child in v._prev:\n",
    "                edges.add((child, v))\n",
    "                build(child)\n",
    "    build(root)\n",
    "    return nodes, edges\n",
    "\n",
    "def draw_dot(root):\n",
    "    \"\"\"\n",
    "    format: png | svg | ...\n",
    "    \n",
    "    rankdir: TB (top to bottom graph) | LR (left to right)\n",
    "    \"\"\"\n",
    "    \n",
    "    dot = Digraph(format=\"svg\", graph_attr={'rankdir': \"LR\"}) #, node_attr={'rankdir': 'TB'})\n",
    "    nodes, edges = trace(root)\n",
    "    \n",
    "    for n in nodes:\n",
    "        uid = str(id(n))\n",
    "        dot.node(name = uid, label = \"{ %s |  data %.4f | grad %.4f }\" % (n.label, n.data, n.grad), shape='record')\n",
    "        if n._op:\n",
    "            dot.node(name=uid + n._op, label=n._op)\n",
    "            dot.edge(uid + n._op, uid)\n",
    "    \n",
    "    \n",
    "    for n1, n2 in edges:\n",
    "        dot.edge(str(id(n1)), str(id(n2)) + n2._op)\n",
    "    \n",
    "    return dot"
   ]
  },
  {
   "cell_type": "code",
   "execution_count": 95,
   "metadata": {},
   "outputs": [
    {
     "data": {
      "text/plain": [
       "Value(6.0)"
      ]
     },
     "execution_count": 95,
     "metadata": {},
     "output_type": "execute_result"
    }
   ],
   "source": [
    "a = Value(2.0)\n",
    "b = Value(4.0)\n",
    "sum([a, b])"
   ]
  },
  {
   "cell_type": "code",
   "execution_count": 68,
   "metadata": {},
   "outputs": [],
   "source": [
    "x1 = Value(2.0, label = \"x1\")\n",
    "x2 = Value(0.0, label = \"x2\")\n",
    "\n",
    "w1 = Value(-3.0, label = \"w1\")\n",
    "w2 = Value(1.0, label = \"w2\")\n",
    "\n",
    "b = Value(6.8813735870195432, label = \"b\")\n",
    "\n",
    "x1w1 = x1 * w1; x1w1.label = \"x1 * w1\"\n",
    "x2w2 = x2 * w2; x2w2.label = \"x2 * w2\"\n",
    "\n",
    "x1w1x2w2 = x1w1 + x2w2; x1w1x2w2.label = \"x1*w1 + x2*w2\"\n",
    "\n",
    "n = x1w1x2w2 + b; n.label = \"n\"\n",
    "\n",
    "o = n.tanh(); o.label = \"o\""
   ]
  },
  {
   "cell_type": "code",
   "execution_count": 69,
   "metadata": {},
   "outputs": [
    {
     "data": {
      "image/svg+xml": "<?xml version=\"1.0\" encoding=\"UTF-8\" standalone=\"no\"?>\n<!DOCTYPE svg PUBLIC \"-//W3C//DTD SVG 1.1//EN\"\n \"http://www.w3.org/Graphics/SVG/1.1/DTD/svg11.dtd\">\n<!-- Generated by graphviz version 8.0.1 (20230327.1645)\n -->\n<!-- Pages: 1 -->\n<svg width=\"1583pt\" height=\"210pt\"\n viewBox=\"0.00 0.00 1583.00 210.00\" xmlns=\"http://www.w3.org/2000/svg\" xmlns:xlink=\"http://www.w3.org/1999/xlink\">\n<g id=\"graph0\" class=\"graph\" transform=\"scale(1 1) rotate(0) translate(4 206)\">\n<polygon fill=\"white\" stroke=\"none\" points=\"-4,4 -4,-206 1579,-206 1579,4 -4,4\"/>\n<!-- 4519063072 -->\n<g id=\"node1\" class=\"node\">\n<title>4519063072</title>\n<polygon fill=\"none\" stroke=\"black\" points=\"328.5,-55.5 328.5,-91.5 551.5,-91.5 551.5,-55.5 328.5,-55.5\"/>\n<text text-anchor=\"middle\" x=\"359\" y=\"-69.8\" font-family=\"Times,serif\" font-size=\"14.00\">x2 * w2</text>\n<polyline fill=\"none\" stroke=\"black\" points=\"389.5,-55.5 389.5,-91.5\"/>\n<text text-anchor=\"middle\" x=\"429.5\" y=\"-69.8\" font-family=\"Times,serif\" font-size=\"14.00\">data 0.0000</text>\n<polyline fill=\"none\" stroke=\"black\" points=\"469.5,-55.5 469.5,-91.5\"/>\n<text text-anchor=\"middle\" x=\"510.5\" y=\"-69.8\" font-family=\"Times,serif\" font-size=\"14.00\">grad 0.5000</text>\n</g>\n<!-- 4519059664+ -->\n<g id=\"node9\" class=\"node\">\n<title>4519059664+</title>\n<ellipse fill=\"none\" stroke=\"black\" cx=\"617\" cy=\"-100.5\" rx=\"27\" ry=\"18\"/>\n<text text-anchor=\"middle\" x=\"617\" y=\"-96.8\" font-family=\"Times,serif\" font-size=\"14.00\">+</text>\n</g>\n<!-- 4519063072&#45;&gt;4519059664+ -->\n<g id=\"edge7\" class=\"edge\">\n<title>4519063072&#45;&gt;4519059664+</title>\n<path fill=\"none\" stroke=\"black\" d=\"M551.33,-90.52C561.39,-92.08 571.02,-93.56 579.63,-94.89\"/>\n<polygon fill=\"black\" stroke=\"black\" points=\"578.9,-98.47 589.32,-96.54 579.97,-91.55 578.9,-98.47\"/>\n</g>\n<!-- 4519063072* -->\n<g id=\"node2\" class=\"node\">\n<title>4519063072*</title>\n<ellipse fill=\"none\" stroke=\"black\" cx=\"263\" cy=\"-73.5\" rx=\"27\" ry=\"18\"/>\n<text text-anchor=\"middle\" x=\"263\" y=\"-69.8\" font-family=\"Times,serif\" font-size=\"14.00\">*</text>\n</g>\n<!-- 4519063072*&#45;&gt;4519063072 -->\n<g id=\"edge1\" class=\"edge\">\n<title>4519063072*&#45;&gt;4519063072</title>\n<path fill=\"none\" stroke=\"black\" d=\"M290.2,-73.5C298.27,-73.5 307.73,-73.5 317.91,-73.5\"/>\n<polygon fill=\"black\" stroke=\"black\" points=\"317.75,-77 327.75,-73.5 317.75,-70 317.75,-77\"/>\n</g>\n<!-- 4518828688 -->\n<g id=\"node3\" class=\"node\">\n<title>4518828688</title>\n<polygon fill=\"none\" stroke=\"black\" points=\"4,-55.5 4,-91.5 196,-91.5 196,-55.5 4,-55.5\"/>\n<text text-anchor=\"middle\" x=\"19\" y=\"-69.8\" font-family=\"Times,serif\" font-size=\"14.00\">x2</text>\n<polyline fill=\"none\" stroke=\"black\" points=\"34,-55.5 34,-91.5\"/>\n<text text-anchor=\"middle\" x=\"74\" y=\"-69.8\" font-family=\"Times,serif\" font-size=\"14.00\">data 0.0000</text>\n<polyline fill=\"none\" stroke=\"black\" points=\"114,-55.5 114,-91.5\"/>\n<text text-anchor=\"middle\" x=\"155\" y=\"-69.8\" font-family=\"Times,serif\" font-size=\"14.00\">grad 0.5000</text>\n</g>\n<!-- 4518828688&#45;&gt;4519063072* -->\n<g id=\"edge9\" class=\"edge\">\n<title>4518828688&#45;&gt;4519063072*</title>\n<path fill=\"none\" stroke=\"black\" d=\"M195.59,-73.5C205.88,-73.5 215.87,-73.5 224.83,-73.5\"/>\n<polygon fill=\"black\" stroke=\"black\" points=\"224.58,-77 234.58,-73.5 224.58,-70 224.58,-77\"/>\n</g>\n<!-- 4519061152 -->\n<g id=\"node4\" class=\"node\">\n<title>4519061152</title>\n<polygon fill=\"none\" stroke=\"black\" points=\"1079,-109.5 1079,-145.5 1264,-145.5 1264,-109.5 1079,-109.5\"/>\n<text text-anchor=\"middle\" x=\"1090.5\" y=\"-123.8\" font-family=\"Times,serif\" font-size=\"14.00\">n</text>\n<polyline fill=\"none\" stroke=\"black\" points=\"1102,-109.5 1102,-145.5\"/>\n<text text-anchor=\"middle\" x=\"1142\" y=\"-123.8\" font-family=\"Times,serif\" font-size=\"14.00\">data 0.8814</text>\n<polyline fill=\"none\" stroke=\"black\" points=\"1182,-109.5 1182,-145.5\"/>\n<text text-anchor=\"middle\" x=\"1223\" y=\"-123.8\" font-family=\"Times,serif\" font-size=\"14.00\">grad 0.5000</text>\n</g>\n<!-- 4517653952tanh -->\n<g id=\"node15\" class=\"node\">\n<title>4517653952tanh</title>\n<ellipse fill=\"none\" stroke=\"black\" cx=\"1327\" cy=\"-127.5\" rx=\"27\" ry=\"18\"/>\n<text text-anchor=\"middle\" x=\"1327\" y=\"-123.8\" font-family=\"Times,serif\" font-size=\"14.00\">tanh</text>\n</g>\n<!-- 4519061152&#45;&gt;4517653952tanh -->\n<g id=\"edge13\" class=\"edge\">\n<title>4519061152&#45;&gt;4517653952tanh</title>\n<path fill=\"none\" stroke=\"black\" d=\"M1263.57,-127.5C1272.41,-127.5 1281,-127.5 1288.83,-127.5\"/>\n<polygon fill=\"black\" stroke=\"black\" points=\"1288.7,-131 1298.7,-127.5 1288.7,-124 1288.7,-131\"/>\n</g>\n<!-- 4519061152+ -->\n<g id=\"node5\" class=\"node\">\n<title>4519061152+</title>\n<ellipse fill=\"none\" stroke=\"black\" cx=\"1016\" cy=\"-127.5\" rx=\"27\" ry=\"18\"/>\n<text text-anchor=\"middle\" x=\"1016\" y=\"-123.8\" font-family=\"Times,serif\" font-size=\"14.00\">+</text>\n</g>\n<!-- 4519061152+&#45;&gt;4519061152 -->\n<g id=\"edge2\" class=\"edge\">\n<title>4519061152+&#45;&gt;4519061152</title>\n<path fill=\"none\" stroke=\"black\" d=\"M1043.39,-127.5C1050.78,-127.5 1059.29,-127.5 1068.33,-127.5\"/>\n<polygon fill=\"black\" stroke=\"black\" points=\"1068.15,-131 1078.15,-127.5 1068.15,-124 1068.15,-131\"/>\n</g>\n<!-- 4518575792 -->\n<g id=\"node6\" class=\"node\">\n<title>4518575792</title>\n<polygon fill=\"none\" stroke=\"black\" points=\"326,-110.5 326,-146.5 554,-146.5 554,-110.5 326,-110.5\"/>\n<text text-anchor=\"middle\" x=\"356.5\" y=\"-124.8\" font-family=\"Times,serif\" font-size=\"14.00\">x1 * w1</text>\n<polyline fill=\"none\" stroke=\"black\" points=\"387,-110.5 387,-146.5\"/>\n<text text-anchor=\"middle\" x=\"429.5\" y=\"-124.8\" font-family=\"Times,serif\" font-size=\"14.00\">data &#45;6.0000</text>\n<polyline fill=\"none\" stroke=\"black\" points=\"472,-110.5 472,-146.5\"/>\n<text text-anchor=\"middle\" x=\"513\" y=\"-124.8\" font-family=\"Times,serif\" font-size=\"14.00\">grad 0.5000</text>\n</g>\n<!-- 4518575792&#45;&gt;4519059664+ -->\n<g id=\"edge12\" class=\"edge\">\n<title>4518575792&#45;&gt;4519059664+</title>\n<path fill=\"none\" stroke=\"black\" d=\"M553.32,-110.53C562.64,-109.04 571.55,-107.61 579.57,-106.33\"/>\n<polygon fill=\"black\" stroke=\"black\" points=\"579.96,-109.65 589.29,-104.61 578.86,-102.74 579.96,-109.65\"/>\n</g>\n<!-- 4518575792* -->\n<g id=\"node7\" class=\"node\">\n<title>4518575792*</title>\n<ellipse fill=\"none\" stroke=\"black\" cx=\"263\" cy=\"-128.5\" rx=\"27\" ry=\"18\"/>\n<text text-anchor=\"middle\" x=\"263\" y=\"-124.8\" font-family=\"Times,serif\" font-size=\"14.00\">*</text>\n</g>\n<!-- 4518575792*&#45;&gt;4518575792 -->\n<g id=\"edge3\" class=\"edge\">\n<title>4518575792*&#45;&gt;4518575792</title>\n<path fill=\"none\" stroke=\"black\" d=\"M290.2,-128.5C297.53,-128.5 306.02,-128.5 315.15,-128.5\"/>\n<polygon fill=\"black\" stroke=\"black\" points=\"315.13,-132 325.13,-128.5 315.13,-125 315.13,-132\"/>\n</g>\n<!-- 4519059664 -->\n<g id=\"node8\" class=\"node\">\n<title>4519059664</title>\n<polygon fill=\"none\" stroke=\"black\" points=\"680,-82.5 680,-118.5 953,-118.5 953,-82.5 680,-82.5\"/>\n<text text-anchor=\"middle\" x=\"733\" y=\"-96.8\" font-family=\"Times,serif\" font-size=\"14.00\">x1*w1 + x2*w2</text>\n<polyline fill=\"none\" stroke=\"black\" points=\"786,-82.5 786,-118.5\"/>\n<text text-anchor=\"middle\" x=\"828.5\" y=\"-96.8\" font-family=\"Times,serif\" font-size=\"14.00\">data &#45;6.0000</text>\n<polyline fill=\"none\" stroke=\"black\" points=\"871,-82.5 871,-118.5\"/>\n<text text-anchor=\"middle\" x=\"912\" y=\"-96.8\" font-family=\"Times,serif\" font-size=\"14.00\">grad 0.5000</text>\n</g>\n<!-- 4519059664&#45;&gt;4519061152+ -->\n<g id=\"edge10\" class=\"edge\">\n<title>4519059664&#45;&gt;4519061152+</title>\n<path fill=\"none\" stroke=\"black\" d=\"M948.96,-118.47C959.54,-119.92 969.56,-121.29 978.45,-122.5\"/>\n<polygon fill=\"black\" stroke=\"black\" points=\"977.67,-126.07 988.06,-123.95 978.62,-119.13 977.67,-126.07\"/>\n</g>\n<!-- 4519059664+&#45;&gt;4519059664 -->\n<g id=\"edge4\" class=\"edge\">\n<title>4519059664+&#45;&gt;4519059664</title>\n<path fill=\"none\" stroke=\"black\" d=\"M644.23,-100.5C651.62,-100.5 660.23,-100.5 669.57,-100.5\"/>\n<polygon fill=\"black\" stroke=\"black\" points=\"669.4,-104 679.4,-100.5 669.4,-97 669.4,-104\"/>\n</g>\n<!-- 4518608080 -->\n<g id=\"node10\" class=\"node\">\n<title>4518608080</title>\n<polygon fill=\"none\" stroke=\"black\" points=\"724,-137.5 724,-173.5 909,-173.5 909,-137.5 724,-137.5\"/>\n<text text-anchor=\"middle\" x=\"735.5\" y=\"-151.8\" font-family=\"Times,serif\" font-size=\"14.00\">b</text>\n<polyline fill=\"none\" stroke=\"black\" points=\"747,-137.5 747,-173.5\"/>\n<text text-anchor=\"middle\" x=\"787\" y=\"-151.8\" font-family=\"Times,serif\" font-size=\"14.00\">data 6.8814</text>\n<polyline fill=\"none\" stroke=\"black\" points=\"827,-137.5 827,-173.5\"/>\n<text text-anchor=\"middle\" x=\"868\" y=\"-151.8\" font-family=\"Times,serif\" font-size=\"14.00\">grad 0.5000</text>\n</g>\n<!-- 4518608080&#45;&gt;4519061152+ -->\n<g id=\"edge11\" class=\"edge\">\n<title>4518608080&#45;&gt;4519061152+</title>\n<path fill=\"none\" stroke=\"black\" d=\"M908.73,-142.57C933.52,-139.05 958.94,-135.45 978.7,-132.65\"/>\n<polygon fill=\"black\" stroke=\"black\" points=\"978.94,-136.01 988.35,-131.14 977.96,-129.08 978.94,-136.01\"/>\n</g>\n<!-- 4518829888 -->\n<g id=\"node11\" class=\"node\">\n<title>4518829888</title>\n<polygon fill=\"none\" stroke=\"black\" points=\"2.5,-0.5 2.5,-36.5 197.5,-36.5 197.5,-0.5 2.5,-0.5\"/>\n<text text-anchor=\"middle\" x=\"19\" y=\"-14.8\" font-family=\"Times,serif\" font-size=\"14.00\">w2</text>\n<polyline fill=\"none\" stroke=\"black\" points=\"35.5,-0.5 35.5,-36.5\"/>\n<text text-anchor=\"middle\" x=\"75.5\" y=\"-14.8\" font-family=\"Times,serif\" font-size=\"14.00\">data 1.0000</text>\n<polyline fill=\"none\" stroke=\"black\" points=\"115.5,-0.5 115.5,-36.5\"/>\n<text text-anchor=\"middle\" x=\"156.5\" y=\"-14.8\" font-family=\"Times,serif\" font-size=\"14.00\">grad 0.0000</text>\n</g>\n<!-- 4518829888&#45;&gt;4519063072* -->\n<g id=\"edge8\" class=\"edge\">\n<title>4518829888&#45;&gt;4519063072*</title>\n<path fill=\"none\" stroke=\"black\" d=\"M169.02,-36.42C179.47,-39.56 190.08,-42.95 200,-46.5 210.07,-50.1 220.82,-54.55 230.49,-58.8\"/>\n<polygon fill=\"black\" stroke=\"black\" points=\"228.92,-62.38 239.48,-63.27 231.79,-55.99 228.92,-62.38\"/>\n</g>\n<!-- 4518606160 -->\n<g id=\"node12\" class=\"node\">\n<title>4518606160</title>\n<polygon fill=\"none\" stroke=\"black\" points=\"0,-165.5 0,-201.5 200,-201.5 200,-165.5 0,-165.5\"/>\n<text text-anchor=\"middle\" x=\"16.5\" y=\"-179.8\" font-family=\"Times,serif\" font-size=\"14.00\">w1</text>\n<polyline fill=\"none\" stroke=\"black\" points=\"33,-165.5 33,-201.5\"/>\n<text text-anchor=\"middle\" x=\"75.5\" y=\"-179.8\" font-family=\"Times,serif\" font-size=\"14.00\">data &#45;3.0000</text>\n<polyline fill=\"none\" stroke=\"black\" points=\"118,-165.5 118,-201.5\"/>\n<text text-anchor=\"middle\" x=\"159\" y=\"-179.8\" font-family=\"Times,serif\" font-size=\"14.00\">grad 1.0000</text>\n</g>\n<!-- 4518606160&#45;&gt;4518575792* -->\n<g id=\"edge6\" class=\"edge\">\n<title>4518606160&#45;&gt;4518575792*</title>\n<path fill=\"none\" stroke=\"black\" d=\"M172.27,-165.52C181.67,-162.72 191.12,-159.7 200,-156.5 210.31,-152.79 221.29,-148.09 231.1,-143.61\"/>\n<polygon fill=\"black\" stroke=\"black\" points=\"232.25,-146.47 239.82,-139.07 229.28,-140.13 232.25,-146.47\"/>\n</g>\n<!-- 4518607696 -->\n<g id=\"node13\" class=\"node\">\n<title>4518607696</title>\n<polygon fill=\"none\" stroke=\"black\" points=\"2,-110.5 2,-146.5 198,-146.5 198,-110.5 2,-110.5\"/>\n<text text-anchor=\"middle\" x=\"17\" y=\"-124.8\" font-family=\"Times,serif\" font-size=\"14.00\">x1</text>\n<polyline fill=\"none\" stroke=\"black\" points=\"32,-110.5 32,-146.5\"/>\n<text text-anchor=\"middle\" x=\"72\" y=\"-124.8\" font-family=\"Times,serif\" font-size=\"14.00\">data 2.0000</text>\n<polyline fill=\"none\" stroke=\"black\" points=\"112,-110.5 112,-146.5\"/>\n<text text-anchor=\"middle\" x=\"155\" y=\"-124.8\" font-family=\"Times,serif\" font-size=\"14.00\">grad &#45;1.5000</text>\n</g>\n<!-- 4518607696&#45;&gt;4518575792* -->\n<g id=\"edge14\" class=\"edge\">\n<title>4518607696&#45;&gt;4518575792*</title>\n<path fill=\"none\" stroke=\"black\" d=\"M197.91,-128.5C207.43,-128.5 216.63,-128.5 224.95,-128.5\"/>\n<polygon fill=\"black\" stroke=\"black\" points=\"224.7,-132 234.7,-128.5 224.7,-125 224.7,-132\"/>\n</g>\n<!-- 4517653952 -->\n<g id=\"node14\" class=\"node\">\n<title>4517653952</title>\n<polygon fill=\"none\" stroke=\"black\" points=\"1390,-109.5 1390,-145.5 1575,-145.5 1575,-109.5 1390,-109.5\"/>\n<text text-anchor=\"middle\" x=\"1401.5\" y=\"-123.8\" font-family=\"Times,serif\" font-size=\"14.00\">o</text>\n<polyline fill=\"none\" stroke=\"black\" points=\"1413,-109.5 1413,-145.5\"/>\n<text text-anchor=\"middle\" x=\"1453\" y=\"-123.8\" font-family=\"Times,serif\" font-size=\"14.00\">data 0.7071</text>\n<polyline fill=\"none\" stroke=\"black\" points=\"1493,-109.5 1493,-145.5\"/>\n<text text-anchor=\"middle\" x=\"1534\" y=\"-123.8\" font-family=\"Times,serif\" font-size=\"14.00\">grad 1.0000</text>\n</g>\n<!-- 4517653952tanh&#45;&gt;4517653952 -->\n<g id=\"edge5\" class=\"edge\">\n<title>4517653952tanh&#45;&gt;4517653952</title>\n<path fill=\"none\" stroke=\"black\" d=\"M1354.39,-127.5C1361.78,-127.5 1370.29,-127.5 1379.33,-127.5\"/>\n<polygon fill=\"black\" stroke=\"black\" points=\"1379.15,-131 1389.15,-127.5 1379.15,-124 1379.15,-131\"/>\n</g>\n</g>\n</svg>\n",
      "text/plain": [
       "<graphviz.graphs.Digraph at 0x10d53fe80>"
      ]
     },
     "execution_count": 69,
     "metadata": {},
     "output_type": "execute_result"
    }
   ],
   "source": [
    "o.backward()\n",
    "draw_dot(o)"
   ]
  },
  {
   "cell_type": "markdown",
   "metadata": {},
   "source": [
    "Without tanh"
   ]
  },
  {
   "cell_type": "code",
   "execution_count": 70,
   "metadata": {},
   "outputs": [
    {
     "data": {
      "image/svg+xml": "<?xml version=\"1.0\" encoding=\"UTF-8\" standalone=\"no\"?>\n<!DOCTYPE svg PUBLIC \"-//W3C//DTD SVG 1.1//EN\"\n \"http://www.w3.org/Graphics/SVG/1.1/DTD/svg11.dtd\">\n<!-- Generated by graphviz version 8.0.1 (20230327.1645)\n -->\n<!-- Pages: 1 -->\n<svg width=\"2952pt\" height=\"210pt\"\n viewBox=\"0.00 0.00 2952.00 210.00\" xmlns=\"http://www.w3.org/2000/svg\" xmlns:xlink=\"http://www.w3.org/1999/xlink\">\n<g id=\"graph0\" class=\"graph\" transform=\"scale(1 1) rotate(0) translate(4 206)\">\n<polygon fill=\"white\" stroke=\"none\" points=\"-4,4 -4,-206 2948,-206 2948,4 -4,4\"/>\n<!-- 4518844448 -->\n<g id=\"node1\" class=\"node\">\n<title>4518844448</title>\n<polygon fill=\"none\" stroke=\"black\" points=\"1700.5,-81.5 1700.5,-117.5 1882.5,-117.5 1882.5,-81.5 1700.5,-81.5\"/>\n<text text-anchor=\"middle\" x=\"1710.5\" y=\"-95.8\" font-family=\"Times,serif\" font-size=\"14.00\"> </text>\n<polyline fill=\"none\" stroke=\"black\" points=\"1720.5,-81.5 1720.5,-117.5\"/>\n<text text-anchor=\"middle\" x=\"1760.5\" y=\"-95.8\" font-family=\"Times,serif\" font-size=\"14.00\">data 5.8284</text>\n<polyline fill=\"none\" stroke=\"black\" points=\"1800.5,-81.5 1800.5,-117.5\"/>\n<text text-anchor=\"middle\" x=\"1841.5\" y=\"-95.8\" font-family=\"Times,serif\" font-size=\"14.00\">grad 0.0429</text>\n</g>\n<!-- 4518844592+ -->\n<g id=\"node11\" class=\"node\">\n<title>4518844592+</title>\n<ellipse fill=\"none\" stroke=\"black\" cx=\"1948\" cy=\"-71.5\" rx=\"27\" ry=\"18\"/>\n<text text-anchor=\"middle\" x=\"1948\" y=\"-67.8\" font-family=\"Times,serif\" font-size=\"14.00\">+</text>\n</g>\n<!-- 4518844448&#45;&gt;4518844592+ -->\n<g id=\"edge14\" class=\"edge\">\n<title>4518844448&#45;&gt;4518844592+</title>\n<path fill=\"none\" stroke=\"black\" d=\"M1882.37,-83.21C1892.34,-81.41 1902.03,-79.65 1910.73,-78.07\"/>\n<polygon fill=\"black\" stroke=\"black\" points=\"1911.34,-81.34 1920.55,-76.11 1910.09,-74.45 1911.34,-81.34\"/>\n</g>\n<!-- 4518843104+ -->\n<g id=\"node14\" class=\"node\">\n<title>4518843104+</title>\n<ellipse fill=\"none\" stroke=\"black\" cx=\"1948\" cy=\"-126.5\" rx=\"27\" ry=\"18\"/>\n<text text-anchor=\"middle\" x=\"1948\" y=\"-122.8\" font-family=\"Times,serif\" font-size=\"14.00\">+</text>\n</g>\n<!-- 4518844448&#45;&gt;4518843104+ -->\n<g id=\"edge16\" class=\"edge\">\n<title>4518844448&#45;&gt;4518843104+</title>\n<path fill=\"none\" stroke=\"black\" d=\"M1882.37,-115.21C1892.34,-116.95 1902.03,-118.64 1910.73,-120.16\"/>\n<polygon fill=\"black\" stroke=\"black\" points=\"1910.1,-123.78 1920.55,-122.05 1911.3,-116.88 1910.1,-123.78\"/>\n</g>\n<!-- 4518844448exp -->\n<g id=\"node2\" class=\"node\">\n<title>4518844448exp</title>\n<ellipse fill=\"none\" stroke=\"black\" cx=\"1635\" cy=\"-99.5\" rx=\"27\" ry=\"18\"/>\n<text text-anchor=\"middle\" x=\"1635\" y=\"-95.8\" font-family=\"Times,serif\" font-size=\"14.00\">exp</text>\n</g>\n<!-- 4518844448exp&#45;&gt;4518844448 -->\n<g id=\"edge1\" class=\"edge\">\n<title>4518844448exp&#45;&gt;4518844448</title>\n<path fill=\"none\" stroke=\"black\" d=\"M1662.21,-99.5C1670.24,-99.5 1679.6,-99.5 1689.54,-99.5\"/>\n<polygon fill=\"black\" stroke=\"black\" points=\"1689.52,-103 1699.52,-99.5 1689.52,-96 1689.52,-103\"/>\n</g>\n<!-- 4518843440 -->\n<g id=\"node3\" class=\"node\">\n<title>4518843440</title>\n<polygon fill=\"none\" stroke=\"black\" points=\"1080.5,-109.5 1080.5,-145.5 1262.5,-145.5 1262.5,-109.5 1080.5,-109.5\"/>\n<text text-anchor=\"middle\" x=\"1090.5\" y=\"-123.8\" font-family=\"Times,serif\" font-size=\"14.00\"> </text>\n<polyline fill=\"none\" stroke=\"black\" points=\"1100.5,-109.5 1100.5,-145.5\"/>\n<text text-anchor=\"middle\" x=\"1140.5\" y=\"-123.8\" font-family=\"Times,serif\" font-size=\"14.00\">data 2.0000</text>\n<polyline fill=\"none\" stroke=\"black\" points=\"1180.5,-109.5 1180.5,-145.5\"/>\n<text text-anchor=\"middle\" x=\"1221.5\" y=\"-123.8\" font-family=\"Times,serif\" font-size=\"14.00\">grad 0.2203</text>\n</g>\n<!-- 4518843680* -->\n<g id=\"node19\" class=\"node\">\n<title>4518843680*</title>\n<ellipse fill=\"none\" stroke=\"black\" cx=\"1327\" cy=\"-99.5\" rx=\"27\" ry=\"18\"/>\n<text text-anchor=\"middle\" x=\"1327\" y=\"-95.8\" font-family=\"Times,serif\" font-size=\"14.00\">*</text>\n</g>\n<!-- 4518843440&#45;&gt;4518843680* -->\n<g id=\"edge23\" class=\"edge\">\n<title>4518843440&#45;&gt;4518843680*</title>\n<path fill=\"none\" stroke=\"black\" d=\"M1262.24,-111.13C1272,-109.35 1281.47,-107.62 1290,-106.07\"/>\n<polygon fill=\"black\" stroke=\"black\" points=\"1290.4,-109.37 1299.61,-104.13 1289.15,-102.48 1290.4,-109.37\"/>\n</g>\n<!-- 4518845552 -->\n<g id=\"node4\" class=\"node\">\n<title>4518845552</title>\n<polygon fill=\"none\" stroke=\"black\" points=\"680,-82.5 680,-118.5 953,-118.5 953,-82.5 680,-82.5\"/>\n<text text-anchor=\"middle\" x=\"733\" y=\"-96.8\" font-family=\"Times,serif\" font-size=\"14.00\">x1*w1 + x2*w2</text>\n<polyline fill=\"none\" stroke=\"black\" points=\"786,-82.5 786,-118.5\"/>\n<text text-anchor=\"middle\" x=\"828.5\" y=\"-96.8\" font-family=\"Times,serif\" font-size=\"14.00\">data &#45;6.0000</text>\n<polyline fill=\"none\" stroke=\"black\" points=\"871,-82.5 871,-118.5\"/>\n<text text-anchor=\"middle\" x=\"912\" y=\"-96.8\" font-family=\"Times,serif\" font-size=\"14.00\">grad 0.5000</text>\n</g>\n<!-- 4518843776+ -->\n<g id=\"node23\" class=\"node\">\n<title>4518843776+</title>\n<ellipse fill=\"none\" stroke=\"black\" cx=\"1016\" cy=\"-72.5\" rx=\"27\" ry=\"18\"/>\n<text text-anchor=\"middle\" x=\"1016\" y=\"-68.8\" font-family=\"Times,serif\" font-size=\"14.00\">+</text>\n</g>\n<!-- 4518845552&#45;&gt;4518843776+ -->\n<g id=\"edge28\" class=\"edge\">\n<title>4518845552&#45;&gt;4518843776+</title>\n<path fill=\"none\" stroke=\"black\" d=\"M944.26,-82.53C956.59,-80.78 968.29,-79.12 978.49,-77.68\"/>\n<polygon fill=\"black\" stroke=\"black\" points=\"978.92,-81.01 988.33,-76.14 977.94,-74.08 978.92,-81.01\"/>\n</g>\n<!-- 4518845552+ -->\n<g id=\"node5\" class=\"node\">\n<title>4518845552+</title>\n<ellipse fill=\"none\" stroke=\"black\" cx=\"617\" cy=\"-100.5\" rx=\"27\" ry=\"18\"/>\n<text text-anchor=\"middle\" x=\"617\" y=\"-96.8\" font-family=\"Times,serif\" font-size=\"14.00\">+</text>\n</g>\n<!-- 4518845552+&#45;&gt;4518845552 -->\n<g id=\"edge2\" class=\"edge\">\n<title>4518845552+&#45;&gt;4518845552</title>\n<path fill=\"none\" stroke=\"black\" d=\"M644.23,-100.5C651.62,-100.5 660.23,-100.5 669.57,-100.5\"/>\n<polygon fill=\"black\" stroke=\"black\" points=\"669.4,-104 679.4,-100.5 669.4,-97 669.4,-104\"/>\n</g>\n<!-- 4519039136 -->\n<g id=\"node6\" class=\"node\">\n<title>4519039136</title>\n<polygon fill=\"none\" stroke=\"black\" points=\"328.5,-110.5 328.5,-146.5 551.5,-146.5 551.5,-110.5 328.5,-110.5\"/>\n<text text-anchor=\"middle\" x=\"359\" y=\"-124.8\" font-family=\"Times,serif\" font-size=\"14.00\">x2 * w2</text>\n<polyline fill=\"none\" stroke=\"black\" points=\"389.5,-110.5 389.5,-146.5\"/>\n<text text-anchor=\"middle\" x=\"429.5\" y=\"-124.8\" font-family=\"Times,serif\" font-size=\"14.00\">data 0.0000</text>\n<polyline fill=\"none\" stroke=\"black\" points=\"469.5,-110.5 469.5,-146.5\"/>\n<text text-anchor=\"middle\" x=\"510.5\" y=\"-124.8\" font-family=\"Times,serif\" font-size=\"14.00\">grad 0.5000</text>\n</g>\n<!-- 4519039136&#45;&gt;4518845552+ -->\n<g id=\"edge13\" class=\"edge\">\n<title>4519039136&#45;&gt;4518845552+</title>\n<path fill=\"none\" stroke=\"black\" d=\"M551.33,-110.85C561.39,-109.24 571.02,-107.7 579.63,-106.32\"/>\n<polygon fill=\"black\" stroke=\"black\" points=\"579.99,-109.65 589.32,-104.61 578.89,-102.73 579.99,-109.65\"/>\n</g>\n<!-- 4519039136* -->\n<g id=\"node7\" class=\"node\">\n<title>4519039136*</title>\n<ellipse fill=\"none\" stroke=\"black\" cx=\"263\" cy=\"-128.5\" rx=\"27\" ry=\"18\"/>\n<text text-anchor=\"middle\" x=\"263\" y=\"-124.8\" font-family=\"Times,serif\" font-size=\"14.00\">*</text>\n</g>\n<!-- 4519039136*&#45;&gt;4519039136 -->\n<g id=\"edge3\" class=\"edge\">\n<title>4519039136*&#45;&gt;4519039136</title>\n<path fill=\"none\" stroke=\"black\" d=\"M290.2,-128.5C298.27,-128.5 307.73,-128.5 317.91,-128.5\"/>\n<polygon fill=\"black\" stroke=\"black\" points=\"317.75,-132 327.75,-128.5 317.75,-125 317.75,-132\"/>\n</g>\n<!-- 4519063216 -->\n<g id=\"node8\" class=\"node\">\n<title>4519063216</title>\n<polygon fill=\"none\" stroke=\"black\" points=\"2759,-80.5 2759,-116.5 2944,-116.5 2944,-80.5 2759,-80.5\"/>\n<text text-anchor=\"middle\" x=\"2770.5\" y=\"-94.8\" font-family=\"Times,serif\" font-size=\"14.00\">o</text>\n<polyline fill=\"none\" stroke=\"black\" points=\"2782,-80.5 2782,-116.5\"/>\n<text text-anchor=\"middle\" x=\"2822\" y=\"-94.8\" font-family=\"Times,serif\" font-size=\"14.00\">data 0.7071</text>\n<polyline fill=\"none\" stroke=\"black\" points=\"2862,-80.5 2862,-116.5\"/>\n<text text-anchor=\"middle\" x=\"2903\" y=\"-94.8\" font-family=\"Times,serif\" font-size=\"14.00\">grad 1.0000</text>\n</g>\n<!-- 4519063216* -->\n<g id=\"node9\" class=\"node\">\n<title>4519063216*</title>\n<ellipse fill=\"none\" stroke=\"black\" cx=\"2696\" cy=\"-98.5\" rx=\"27\" ry=\"18\"/>\n<text text-anchor=\"middle\" x=\"2696\" y=\"-94.8\" font-family=\"Times,serif\" font-size=\"14.00\">*</text>\n</g>\n<!-- 4519063216*&#45;&gt;4519063216 -->\n<g id=\"edge4\" class=\"edge\">\n<title>4519063216*&#45;&gt;4519063216</title>\n<path fill=\"none\" stroke=\"black\" d=\"M2723.39,-98.5C2730.78,-98.5 2739.29,-98.5 2748.33,-98.5\"/>\n<polygon fill=\"black\" stroke=\"black\" points=\"2748.15,-102 2758.15,-98.5 2748.15,-95 2748.15,-102\"/>\n</g>\n<!-- 4518844592 -->\n<g id=\"node10\" class=\"node\">\n<title>4518844592</title>\n<polygon fill=\"none\" stroke=\"black\" points=\"2011,-53.5 2011,-89.5 2197,-89.5 2197,-53.5 2011,-53.5\"/>\n<text text-anchor=\"middle\" x=\"2021\" y=\"-67.8\" font-family=\"Times,serif\" font-size=\"14.00\"> </text>\n<polyline fill=\"none\" stroke=\"black\" points=\"2031,-53.5 2031,-89.5\"/>\n<text text-anchor=\"middle\" x=\"2071\" y=\"-67.8\" font-family=\"Times,serif\" font-size=\"14.00\">data 6.8284</text>\n<polyline fill=\"none\" stroke=\"black\" points=\"2111,-53.5 2111,-89.5\"/>\n<text text-anchor=\"middle\" x=\"2154\" y=\"-67.8\" font-family=\"Times,serif\" font-size=\"14.00\">grad &#45;0.1036</text>\n</g>\n<!-- 4518843824* -->\n<g id=\"node26\" class=\"node\">\n<title>4518843824*</title>\n<ellipse fill=\"none\" stroke=\"black\" cx=\"2324\" cy=\"-71.5\" rx=\"27\" ry=\"18\"/>\n<text text-anchor=\"middle\" x=\"2324\" y=\"-67.8\" font-family=\"Times,serif\" font-size=\"14.00\">*</text>\n</g>\n<!-- 4518844592&#45;&gt;4518843824* -->\n<g id=\"edge12\" class=\"edge\">\n<title>4518844592&#45;&gt;4518843824*</title>\n<path fill=\"none\" stroke=\"black\" d=\"M2196.82,-71.5C2228.16,-71.5 2261.45,-71.5 2285.96,-71.5\"/>\n<polygon fill=\"black\" stroke=\"black\" points=\"2285.9,-75 2295.9,-71.5 2285.9,-68 2285.9,-75\"/>\n</g>\n<!-- 4518844592+&#45;&gt;4518844592 -->\n<g id=\"edge5\" class=\"edge\">\n<title>4518844592+&#45;&gt;4518844592</title>\n<path fill=\"none\" stroke=\"black\" d=\"M1975.47,-71.5C1982.83,-71.5 1991.29,-71.5 2000.27,-71.5\"/>\n<polygon fill=\"black\" stroke=\"black\" points=\"2000.03,-75 2010.03,-71.5 2000.03,-68 2000.03,-75\"/>\n</g>\n<!-- 4518812880 -->\n<g id=\"node12\" class=\"node\">\n<title>4518812880</title>\n<polygon fill=\"none\" stroke=\"black\" points=\"4,-165.5 4,-201.5 196,-201.5 196,-165.5 4,-165.5\"/>\n<text text-anchor=\"middle\" x=\"19\" y=\"-179.8\" font-family=\"Times,serif\" font-size=\"14.00\">x2</text>\n<polyline fill=\"none\" stroke=\"black\" points=\"34,-165.5 34,-201.5\"/>\n<text text-anchor=\"middle\" x=\"74\" y=\"-179.8\" font-family=\"Times,serif\" font-size=\"14.00\">data 0.0000</text>\n<polyline fill=\"none\" stroke=\"black\" points=\"114,-165.5 114,-201.5\"/>\n<text text-anchor=\"middle\" x=\"155\" y=\"-179.8\" font-family=\"Times,serif\" font-size=\"14.00\">grad 0.5000</text>\n</g>\n<!-- 4518812880&#45;&gt;4519039136* -->\n<g id=\"edge21\" class=\"edge\">\n<title>4518812880&#45;&gt;4519039136*</title>\n<path fill=\"none\" stroke=\"black\" d=\"M172.27,-165.52C181.67,-162.72 191.12,-159.7 200,-156.5 210.31,-152.79 221.29,-148.09 231.1,-143.61\"/>\n<polygon fill=\"black\" stroke=\"black\" points=\"232.25,-146.47 239.82,-139.07 229.28,-140.13 232.25,-146.47\"/>\n</g>\n<!-- 4518843104 -->\n<g id=\"node13\" class=\"node\">\n<title>4518843104</title>\n<polygon fill=\"none\" stroke=\"black\" points=\"2233,-108.5 2233,-144.5 2415,-144.5 2415,-108.5 2233,-108.5\"/>\n<text text-anchor=\"middle\" x=\"2243\" y=\"-122.8\" font-family=\"Times,serif\" font-size=\"14.00\"> </text>\n<polyline fill=\"none\" stroke=\"black\" points=\"2253,-108.5 2253,-144.5\"/>\n<text text-anchor=\"middle\" x=\"2293\" y=\"-122.8\" font-family=\"Times,serif\" font-size=\"14.00\">data 4.8284</text>\n<polyline fill=\"none\" stroke=\"black\" points=\"2333,-108.5 2333,-144.5\"/>\n<text text-anchor=\"middle\" x=\"2374\" y=\"-122.8\" font-family=\"Times,serif\" font-size=\"14.00\">grad 0.1464</text>\n</g>\n<!-- 4518843104&#45;&gt;4519063216* -->\n<g id=\"edge15\" class=\"edge\">\n<title>4518843104&#45;&gt;4519063216*</title>\n<path fill=\"none\" stroke=\"black\" d=\"M2414.97,-119.92C2476.4,-115.4 2559.63,-109.2 2633,-103.5 2641.07,-102.87 2649.73,-102.19 2657.94,-101.53\"/>\n<polygon fill=\"black\" stroke=\"black\" points=\"2658.07,-104.94 2667.76,-100.65 2657.51,-97.97 2658.07,-104.94\"/>\n</g>\n<!-- 4518843104+&#45;&gt;4518843104 -->\n<g id=\"edge6\" class=\"edge\">\n<title>4518843104+&#45;&gt;4518843104</title>\n<path fill=\"none\" stroke=\"black\" d=\"M1975.3,-126.5C2025.79,-126.5 2138.71,-126.5 2222.24,-126.5\"/>\n<polygon fill=\"black\" stroke=\"black\" points=\"2222.05,-130 2232.05,-126.5 2222.05,-123 2222.05,-130\"/>\n</g>\n<!-- 4519039232 -->\n<g id=\"node15\" class=\"node\">\n<title>4519039232</title>\n<polygon fill=\"none\" stroke=\"black\" points=\"326,-55.5 326,-91.5 554,-91.5 554,-55.5 326,-55.5\"/>\n<text text-anchor=\"middle\" x=\"356.5\" y=\"-69.8\" font-family=\"Times,serif\" font-size=\"14.00\">x1 * w1</text>\n<polyline fill=\"none\" stroke=\"black\" points=\"387,-55.5 387,-91.5\"/>\n<text text-anchor=\"middle\" x=\"429.5\" y=\"-69.8\" font-family=\"Times,serif\" font-size=\"14.00\">data &#45;6.0000</text>\n<polyline fill=\"none\" stroke=\"black\" points=\"472,-55.5 472,-91.5\"/>\n<text text-anchor=\"middle\" x=\"513\" y=\"-69.8\" font-family=\"Times,serif\" font-size=\"14.00\">grad 0.5000</text>\n</g>\n<!-- 4519039232&#45;&gt;4518845552+ -->\n<g id=\"edge19\" class=\"edge\">\n<title>4519039232&#45;&gt;4518845552+</title>\n<path fill=\"none\" stroke=\"black\" d=\"M553.81,-90.9C562.87,-92.3 571.54,-93.64 579.38,-94.85\"/>\n<polygon fill=\"black\" stroke=\"black\" points=\"578.79,-98.45 589.21,-96.52 579.86,-91.54 578.79,-98.45\"/>\n</g>\n<!-- 4519039232* -->\n<g id=\"node16\" class=\"node\">\n<title>4519039232*</title>\n<ellipse fill=\"none\" stroke=\"black\" cx=\"263\" cy=\"-73.5\" rx=\"27\" ry=\"18\"/>\n<text text-anchor=\"middle\" x=\"263\" y=\"-69.8\" font-family=\"Times,serif\" font-size=\"14.00\">*</text>\n</g>\n<!-- 4519039232*&#45;&gt;4519039232 -->\n<g id=\"edge7\" class=\"edge\">\n<title>4519039232*&#45;&gt;4519039232</title>\n<path fill=\"none\" stroke=\"black\" d=\"M290.2,-73.5C297.53,-73.5 306.02,-73.5 315.15,-73.5\"/>\n<polygon fill=\"black\" stroke=\"black\" points=\"315.13,-77 325.13,-73.5 315.13,-70 315.13,-77\"/>\n</g>\n<!-- 4518813456 -->\n<g id=\"node17\" class=\"node\">\n<title>4518813456</title>\n<polygon fill=\"none\" stroke=\"black\" points=\"724,-27.5 724,-63.5 909,-63.5 909,-27.5 724,-27.5\"/>\n<text text-anchor=\"middle\" x=\"735.5\" y=\"-41.8\" font-family=\"Times,serif\" font-size=\"14.00\">b</text>\n<polyline fill=\"none\" stroke=\"black\" points=\"747,-27.5 747,-63.5\"/>\n<text text-anchor=\"middle\" x=\"787\" y=\"-41.8\" font-family=\"Times,serif\" font-size=\"14.00\">data 6.8814</text>\n<polyline fill=\"none\" stroke=\"black\" points=\"827,-27.5 827,-63.5\"/>\n<text text-anchor=\"middle\" x=\"868\" y=\"-41.8\" font-family=\"Times,serif\" font-size=\"14.00\">grad 0.5000</text>\n</g>\n<!-- 4518813456&#45;&gt;4518843776+ -->\n<g id=\"edge11\" class=\"edge\">\n<title>4518813456&#45;&gt;4518843776+</title>\n<path fill=\"none\" stroke=\"black\" d=\"M908.73,-57.97C933.52,-61.36 958.94,-64.84 978.7,-67.54\"/>\n<polygon fill=\"black\" stroke=\"black\" points=\"977.97,-71.11 988.35,-68.99 978.91,-64.17 977.97,-71.11\"/>\n</g>\n<!-- 4518843680 -->\n<g id=\"node18\" class=\"node\">\n<title>4518843680</title>\n<polygon fill=\"none\" stroke=\"black\" points=\"1390,-81.5 1390,-117.5 1572,-117.5 1572,-81.5 1390,-81.5\"/>\n<text text-anchor=\"middle\" x=\"1400\" y=\"-95.8\" font-family=\"Times,serif\" font-size=\"14.00\"> </text>\n<polyline fill=\"none\" stroke=\"black\" points=\"1410,-81.5 1410,-117.5\"/>\n<text text-anchor=\"middle\" x=\"1450\" y=\"-95.8\" font-family=\"Times,serif\" font-size=\"14.00\">data 1.7627</text>\n<polyline fill=\"none\" stroke=\"black\" points=\"1490,-81.5 1490,-117.5\"/>\n<text text-anchor=\"middle\" x=\"1531\" y=\"-95.8\" font-family=\"Times,serif\" font-size=\"14.00\">grad 0.2500</text>\n</g>\n<!-- 4518843680&#45;&gt;4518844448exp -->\n<g id=\"edge24\" class=\"edge\">\n<title>4518843680&#45;&gt;4518844448exp</title>\n<path fill=\"none\" stroke=\"black\" d=\"M1571.74,-99.5C1580.55,-99.5 1589.1,-99.5 1596.91,-99.5\"/>\n<polygon fill=\"black\" stroke=\"black\" points=\"1596.75,-103 1606.75,-99.5 1596.75,-96 1596.75,-103\"/>\n</g>\n<!-- 4518843680*&#45;&gt;4518843680 -->\n<g id=\"edge8\" class=\"edge\">\n<title>4518843680*&#45;&gt;4518843680</title>\n<path fill=\"none\" stroke=\"black\" d=\"M1354.48,-99.5C1361.87,-99.5 1370.38,-99.5 1379.4,-99.5\"/>\n<polygon fill=\"black\" stroke=\"black\" points=\"1379.2,-103 1389.2,-99.5 1379.2,-96 1379.2,-103\"/>\n</g>\n<!-- 4518811488 -->\n<g id=\"node20\" class=\"node\">\n<title>4518811488</title>\n<polygon fill=\"none\" stroke=\"black\" points=\"2,-55.5 2,-91.5 198,-91.5 198,-55.5 2,-55.5\"/>\n<text text-anchor=\"middle\" x=\"17\" y=\"-69.8\" font-family=\"Times,serif\" font-size=\"14.00\">x1</text>\n<polyline fill=\"none\" stroke=\"black\" points=\"32,-55.5 32,-91.5\"/>\n<text text-anchor=\"middle\" x=\"72\" y=\"-69.8\" font-family=\"Times,serif\" font-size=\"14.00\">data 2.0000</text>\n<polyline fill=\"none\" stroke=\"black\" points=\"112,-55.5 112,-91.5\"/>\n<text text-anchor=\"middle\" x=\"155\" y=\"-69.8\" font-family=\"Times,serif\" font-size=\"14.00\">grad &#45;1.5000</text>\n</g>\n<!-- 4518811488&#45;&gt;4519039232* -->\n<g id=\"edge18\" class=\"edge\">\n<title>4518811488&#45;&gt;4519039232*</title>\n<path fill=\"none\" stroke=\"black\" d=\"M197.91,-73.5C207.43,-73.5 216.63,-73.5 224.95,-73.5\"/>\n<polygon fill=\"black\" stroke=\"black\" points=\"224.7,-77 234.7,-73.5 224.7,-70 224.7,-77\"/>\n</g>\n<!-- 4518845792 -->\n<g id=\"node21\" class=\"node\">\n<title>4518845792</title>\n<polygon fill=\"none\" stroke=\"black\" points=\"1698.5,-26.5 1698.5,-62.5 1884.5,-62.5 1884.5,-26.5 1698.5,-26.5\"/>\n<text text-anchor=\"middle\" x=\"1708.5\" y=\"-40.8\" font-family=\"Times,serif\" font-size=\"14.00\"> </text>\n<polyline fill=\"none\" stroke=\"black\" points=\"1718.5,-26.5 1718.5,-62.5\"/>\n<text text-anchor=\"middle\" x=\"1758.5\" y=\"-40.8\" font-family=\"Times,serif\" font-size=\"14.00\">data 1.0000</text>\n<polyline fill=\"none\" stroke=\"black\" points=\"1798.5,-26.5 1798.5,-62.5\"/>\n<text text-anchor=\"middle\" x=\"1841.5\" y=\"-40.8\" font-family=\"Times,serif\" font-size=\"14.00\">grad &#45;0.1036</text>\n</g>\n<!-- 4518845792&#45;&gt;4518844592+ -->\n<g id=\"edge26\" class=\"edge\">\n<title>4518845792&#45;&gt;4518844592+</title>\n<path fill=\"none\" stroke=\"black\" d=\"M1884.16,-60.52C1893.54,-62.16 1902.63,-63.75 1910.84,-65.18\"/>\n<polygon fill=\"black\" stroke=\"black\" points=\"1909.99,-68.76 1920.44,-67.03 1911.2,-61.86 1909.99,-68.76\"/>\n</g>\n<!-- 4518843776 -->\n<g id=\"node22\" class=\"node\">\n<title>4518843776</title>\n<polygon fill=\"none\" stroke=\"black\" points=\"1079,-54.5 1079,-90.5 1264,-90.5 1264,-54.5 1079,-54.5\"/>\n<text text-anchor=\"middle\" x=\"1090.5\" y=\"-68.8\" font-family=\"Times,serif\" font-size=\"14.00\">n</text>\n<polyline fill=\"none\" stroke=\"black\" points=\"1102,-54.5 1102,-90.5\"/>\n<text text-anchor=\"middle\" x=\"1142\" y=\"-68.8\" font-family=\"Times,serif\" font-size=\"14.00\">data 0.8814</text>\n<polyline fill=\"none\" stroke=\"black\" points=\"1182,-54.5 1182,-90.5\"/>\n<text text-anchor=\"middle\" x=\"1223\" y=\"-68.8\" font-family=\"Times,serif\" font-size=\"14.00\">grad 0.5000</text>\n</g>\n<!-- 4518843776&#45;&gt;4518843680* -->\n<g id=\"edge22\" class=\"edge\">\n<title>4518843776&#45;&gt;4518843680*</title>\n<path fill=\"none\" stroke=\"black\" d=\"M1263.57,-88.52C1272.78,-90.14 1281.71,-91.71 1289.8,-93.13\"/>\n<polygon fill=\"black\" stroke=\"black\" points=\"1289.15,-96.75 1299.61,-95.03 1290.37,-89.85 1289.15,-96.75\"/>\n</g>\n<!-- 4518843776+&#45;&gt;4518843776 -->\n<g id=\"edge9\" class=\"edge\">\n<title>4518843776+&#45;&gt;4518843776</title>\n<path fill=\"none\" stroke=\"black\" d=\"M1043.39,-72.5C1050.78,-72.5 1059.29,-72.5 1068.33,-72.5\"/>\n<polygon fill=\"black\" stroke=\"black\" points=\"1068.15,-76 1078.15,-72.5 1068.15,-69 1068.15,-76\"/>\n</g>\n<!-- 4518811536 -->\n<g id=\"node24\" class=\"node\">\n<title>4518811536</title>\n<polygon fill=\"none\" stroke=\"black\" points=\"0,-0.5 0,-36.5 200,-36.5 200,-0.5 0,-0.5\"/>\n<text text-anchor=\"middle\" x=\"16.5\" y=\"-14.8\" font-family=\"Times,serif\" font-size=\"14.00\">w1</text>\n<polyline fill=\"none\" stroke=\"black\" points=\"33,-0.5 33,-36.5\"/>\n<text text-anchor=\"middle\" x=\"75.5\" y=\"-14.8\" font-family=\"Times,serif\" font-size=\"14.00\">data &#45;3.0000</text>\n<polyline fill=\"none\" stroke=\"black\" points=\"118,-0.5 118,-36.5\"/>\n<text text-anchor=\"middle\" x=\"159\" y=\"-14.8\" font-family=\"Times,serif\" font-size=\"14.00\">grad 1.0000</text>\n</g>\n<!-- 4518811536&#45;&gt;4519039232* -->\n<g id=\"edge20\" class=\"edge\">\n<title>4518811536&#45;&gt;4519039232*</title>\n<path fill=\"none\" stroke=\"black\" d=\"M172.27,-36.48C181.67,-39.28 191.12,-42.3 200,-45.5 210.31,-49.21 221.29,-53.91 231.1,-58.39\"/>\n<polygon fill=\"black\" stroke=\"black\" points=\"229.28,-61.87 239.82,-62.93 232.25,-55.53 229.28,-61.87\"/>\n</g>\n<!-- 4518843824 -->\n<g id=\"node25\" class=\"node\">\n<title>4518843824</title>\n<polygon fill=\"none\" stroke=\"black\" points=\"2451,-57.5 2451,-93.5 2633,-93.5 2633,-57.5 2451,-57.5\"/>\n<text text-anchor=\"middle\" x=\"2461\" y=\"-71.8\" font-family=\"Times,serif\" font-size=\"14.00\"> </text>\n<polyline fill=\"none\" stroke=\"black\" points=\"2471,-57.5 2471,-93.5\"/>\n<text text-anchor=\"middle\" x=\"2511\" y=\"-71.8\" font-family=\"Times,serif\" font-size=\"14.00\">data 0.1464</text>\n<polyline fill=\"none\" stroke=\"black\" points=\"2551,-57.5 2551,-93.5\"/>\n<text text-anchor=\"middle\" x=\"2592\" y=\"-71.8\" font-family=\"Times,serif\" font-size=\"14.00\">grad 4.8284</text>\n</g>\n<!-- 4518843824&#45;&gt;4519063216* -->\n<g id=\"edge25\" class=\"edge\">\n<title>4518843824&#45;&gt;4519063216*</title>\n<path fill=\"none\" stroke=\"black\" d=\"M2632.74,-89.08C2641.82,-90.45 2650.64,-91.79 2658.64,-93\"/>\n<polygon fill=\"black\" stroke=\"black\" points=\"2657.94,-96.58 2668.35,-94.62 2658.99,-89.66 2657.94,-96.58\"/>\n</g>\n<!-- 4518843824*&#45;&gt;4518843824 -->\n<g id=\"edge10\" class=\"edge\">\n<title>4518843824*&#45;&gt;4518843824</title>\n<path fill=\"none\" stroke=\"black\" d=\"M2351.49,-71.99C2373.95,-72.41 2407.67,-73.03 2440.46,-73.64\"/>\n<polygon fill=\"black\" stroke=\"black\" points=\"2440,-77.15 2450.06,-73.83 2440.12,-70.15 2440,-77.15\"/>\n</g>\n<!-- 4518843872 -->\n<g id=\"node27\" class=\"node\">\n<title>4518843872</title>\n<polygon fill=\"none\" stroke=\"black\" points=\"1698,-136.5 1698,-172.5 1885,-172.5 1885,-136.5 1698,-136.5\"/>\n<text text-anchor=\"middle\" x=\"1708\" y=\"-150.8\" font-family=\"Times,serif\" font-size=\"14.00\"> </text>\n<polyline fill=\"none\" stroke=\"black\" points=\"1718,-136.5 1718,-172.5\"/>\n<text text-anchor=\"middle\" x=\"1760.5\" y=\"-150.8\" font-family=\"Times,serif\" font-size=\"14.00\">data &#45;1.0000</text>\n<polyline fill=\"none\" stroke=\"black\" points=\"1803,-136.5 1803,-172.5\"/>\n<text text-anchor=\"middle\" x=\"1844\" y=\"-150.8\" font-family=\"Times,serif\" font-size=\"14.00\">grad 0.1464</text>\n</g>\n<!-- 4518843872&#45;&gt;4518843104+ -->\n<g id=\"edge27\" class=\"edge\">\n<title>4518843872&#45;&gt;4518843104+</title>\n<path fill=\"none\" stroke=\"black\" d=\"M1884.6,-137.81C1893.83,-136.14 1902.76,-134.52 1910.84,-133.05\"/>\n<polygon fill=\"black\" stroke=\"black\" points=\"1911.43,-136.32 1920.65,-131.09 1910.18,-129.43 1911.43,-136.32\"/>\n</g>\n<!-- 4518813168 -->\n<g id=\"node28\" class=\"node\">\n<title>4518813168</title>\n<polygon fill=\"none\" stroke=\"black\" points=\"2.5,-110.5 2.5,-146.5 197.5,-146.5 197.5,-110.5 2.5,-110.5\"/>\n<text text-anchor=\"middle\" x=\"19\" y=\"-124.8\" font-family=\"Times,serif\" font-size=\"14.00\">w2</text>\n<polyline fill=\"none\" stroke=\"black\" points=\"35.5,-110.5 35.5,-146.5\"/>\n<text text-anchor=\"middle\" x=\"75.5\" y=\"-124.8\" font-family=\"Times,serif\" font-size=\"14.00\">data 1.0000</text>\n<polyline fill=\"none\" stroke=\"black\" points=\"115.5,-110.5 115.5,-146.5\"/>\n<text text-anchor=\"middle\" x=\"156.5\" y=\"-124.8\" font-family=\"Times,serif\" font-size=\"14.00\">grad 0.0000</text>\n</g>\n<!-- 4518813168&#45;&gt;4519039136* -->\n<g id=\"edge17\" class=\"edge\">\n<title>4518813168&#45;&gt;4519039136*</title>\n<path fill=\"none\" stroke=\"black\" d=\"M197.44,-128.5C207.11,-128.5 216.46,-128.5 224.9,-128.5\"/>\n<polygon fill=\"black\" stroke=\"black\" points=\"224.79,-132 234.79,-128.5 224.79,-125 224.79,-132\"/>\n</g>\n</g>\n</svg>\n",
      "text/plain": [
       "<graphviz.graphs.Digraph at 0x10d5813d0>"
      ]
     },
     "execution_count": 70,
     "metadata": {},
     "output_type": "execute_result"
    }
   ],
   "source": [
    "x1 = Value(2.0, label = \"x1\")\n",
    "x2 = Value(0.0, label = \"x2\")\n",
    "\n",
    "w1 = Value(-3.0, label = \"w1\")\n",
    "w2 = Value(1.0, label = \"w2\")\n",
    "\n",
    "b = Value(6.8813735870195432, label = \"b\")\n",
    "\n",
    "x1w1 = x1 * w1; x1w1.label = \"x1 * w1\"\n",
    "x2w2 = x2 * w2; x2w2.label = \"x2 * w2\"\n",
    "\n",
    "x1w1x2w2 = x1w1 + x2w2; x1w1x2w2.label = \"x1*w1 + x2*w2\"\n",
    "\n",
    "n = x1w1x2w2 + b; n.label = \"n\"\n",
    "\n",
    "e = (2*n).exp()\n",
    "o = (e - 1)/ (e + 1); o.label = \"o\"\n",
    "\n",
    "o.backward()\n",
    "draw_dot(o)"
   ]
  },
  {
   "cell_type": "markdown",
   "metadata": {},
   "source": [
    "Building Neural Net Library Multi-Layer Perceptron"
   ]
  },
  {
   "cell_type": "code",
   "execution_count": 111,
   "metadata": {},
   "outputs": [],
   "source": [
    "class Neuron:\n",
    "    def __init__(self, nin):\n",
    "        self.w = [Value(random.uniform(-1, 1)) for _ in range(nin)]\n",
    "        self.b = Value(random.uniform(-1, 1))\n",
    "    \n",
    "    def __call__(self, x):\n",
    "        #w * x + b\n",
    "        act = sum((wi*xi for wi, xi in zip(self.w, x)), self.b)\n",
    "        result = act.tanh()\n",
    "        return result\n",
    "    \n",
    "    def parameters(self):\n",
    "        return self.w + [self.b]\n",
    "        \n",
    "class Layer:\n",
    "    def __init__(self, nin, nout):\n",
    "        self.neurons = [Neuron(nin) for _ in range(nout)]\n",
    "\n",
    "    def __call__(self, x):\n",
    "        out = [n(x) for n in self.neurons]\n",
    "        return out[0] if len(out) == 1 else out\n",
    "    \n",
    "    def parameters(self):\n",
    "        return [p for neuron in self.neurons for p in neuron.parameters()]\n",
    "\n",
    "class MLP:\n",
    "    def __init__(self, nin, nouts):\n",
    "        print(\"nin, nouts \", nin, nouts)\n",
    "        sz = [nin] + nouts\n",
    "        print(\"sz \", sz)\n",
    "        self.layers = [Layer(sz[i], sz[i+1]) for i in range(len(nouts))]\n",
    "\n",
    "    def __call__(self, x):\n",
    "        for layer in self.layers:\n",
    "            x = layer(x)\n",
    "        return x\n",
    "    \n",
    "    def parameters(self):\n",
    "        return [p for layer in self.layers for p in layer.parameters()]"
   ]
  },
  {
   "cell_type": "code",
   "execution_count": 112,
   "metadata": {},
   "outputs": [
    {
     "name": "stdout",
     "output_type": "stream",
     "text": [
      "nin, nouts  3 [4, 4, 1]\n",
      "sz  [3, 4, 4, 1]\n"
     ]
    },
    {
     "data": {
      "text/plain": [
       "Value(0.37464674100441786)"
      ]
     },
     "execution_count": 112,
     "metadata": {},
     "output_type": "execute_result"
    }
   ],
   "source": [
    "x = [2.0, 3.0, -1.0]\n",
    "n = MLP(3, [4, 4, 1])\n",
    "n(x)"
   ]
  },
  {
   "cell_type": "code",
   "execution_count": 113,
   "metadata": {},
   "outputs": [],
   "source": [
    "xs = [\n",
    "  [2.0, 3.0, -1.0],\n",
    "  [3.0, -1.0, 0.5],\n",
    "  [0.5, 1.0, 1.0],\n",
    "  [1.0, 1.0, -1.0],\n",
    "]\n",
    "ys = [1.0, -1.0, -1.0, 1.0] # desired targets"
   ]
  },
  {
   "cell_type": "code",
   "execution_count": 202,
   "metadata": {},
   "outputs": [
    {
     "name": "stdout",
     "output_type": "stream",
     "text": [
      "0 9.536810575894754e-06\n",
      "1 9.524848039215735e-06\n",
      "2 9.512921074497756e-06\n",
      "3 9.501029518413802e-06\n",
      "4 9.489173208642274e-06\n",
      "5 9.477351983866662e-06\n",
      "6 9.46556568376115e-06\n",
      "7 9.453814148989876e-06\n",
      "8 9.442097221192079e-06\n",
      "9 9.430414742978948e-06\n"
     ]
    }
   ],
   "source": [
    "for k in range(10):\n",
    "    #forward pass\n",
    "    ypred = [n(x) for x in xs]\n",
    "    loss = sum((ytrue - ypred_)**2 for ypred_, ytrue in zip(ys, ypred))\n",
    "\n",
    "    #backward pass\n",
    "    for p in n.parameters():\n",
    "        p.grad = 0.0\n",
    "    loss.backward()\n",
    "\n",
    "    #update\n",
    "    for p in n.parameters():\n",
    "        p.data += (-0.5) * p.grad\n",
    "\n",
    "    print(k, loss.data)"
   ]
  },
  {
   "cell_type": "code",
   "execution_count": 204,
   "metadata": {},
   "outputs": [
    {
     "data": {
      "text/plain": [
       "[Value(0.9988118802772472),\n",
       " Value(-0.9999774465981985),\n",
       " Value(-0.9989460090317434),\n",
       " Value(0.9973718103854011)]"
      ]
     },
     "execution_count": 204,
     "metadata": {},
     "output_type": "execute_result"
    }
   ],
   "source": [
    "ypred\n"
   ]
  },
  {
   "cell_type": "code",
   "execution_count": 119,
   "metadata": {},
   "outputs": [
    {
     "data": {
      "text/plain": [
       "[1.0, -1.0, -1.0, 1.0]"
      ]
     },
     "execution_count": 119,
     "metadata": {},
     "output_type": "execute_result"
    }
   ],
   "source": [
    "ys"
   ]
  }
 ],
 "metadata": {
  "kernelspec": {
   "display_name": "Python 3.9.6 64-bit",
   "language": "python",
   "name": "python3"
  },
  "language_info": {
   "codemirror_mode": {
    "name": "ipython",
    "version": 3
   },
   "file_extension": ".py",
   "mimetype": "text/x-python",
   "name": "python",
   "nbconvert_exporter": "python",
   "pygments_lexer": "ipython3",
   "version": "3.9.6"
  },
  "orig_nbformat": 4,
  "vscode": {
   "interpreter": {
    "hash": "31f2aee4e71d21fbe5cf8b01ff0e069b9275f58929596ceb00d14d90e3e16cd6"
   }
  }
 },
 "nbformat": 4,
 "nbformat_minor": 2
}
